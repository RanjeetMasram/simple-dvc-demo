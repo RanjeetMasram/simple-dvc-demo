{
 "cells": [
  {
   "cell_type": "code",
   "execution_count": 2,
   "id": "collaborative-detector",
   "metadata": {},
   "outputs": [
    {
     "data": {
      "text/plain": [
       "'D:\\\\Study\\\\ML_AI\\\\Ineuron\\\\Commuity Project\\\\MLOps\\\\Project\\\\wineq\\\\notebooks'"
      ]
     },
     "execution_count": 2,
     "metadata": {},
     "output_type": "execute_result"
    }
   ],
   "source": [
    "pwd"
   ]
  },
  {
   "cell_type": "code",
   "execution_count": 5,
   "id": "historical-daisy",
   "metadata": {},
   "outputs": [
    {
     "name": "stdout",
     "output_type": "stream",
     "text": [
      "{   'creation_timestamp': 1616850092523,\n",
      "    'current_stage': 'Staging',\n",
      "    'description': '',\n",
      "    'last_updated_timestamp': 1616853124088,\n",
      "    'name': 'ElasticNetWineModel',\n",
      "    'run_id': 'da00bf30d4a3450297646bca68f02cc1',\n",
      "    'run_link': '',\n",
      "    'source': './artifacts/1/da00bf30d4a3450297646bca68f02cc1/artifacts/model',\n",
      "    'status': 'READY',\n",
      "    'status_message': '',\n",
      "    'tags': {},\n",
      "    'user_id': '',\n",
      "    'version': '1'}\n",
      "{   'creation_timestamp': 1616850241609,\n",
      "    'current_stage': 'Staging',\n",
      "    'description': '',\n",
      "    'last_updated_timestamp': 1616853126399,\n",
      "    'name': 'ElasticNetWineModel',\n",
      "    'run_id': '57ab1085ee364d8a90fa7ce263826367',\n",
      "    'run_link': '',\n",
      "    'source': './artifacts/1/57ab1085ee364d8a90fa7ce263826367/artifacts/model',\n",
      "    'status': 'READY',\n",
      "    'status_message': '',\n",
      "    'tags': {},\n",
      "    'user_id': '',\n",
      "    'version': '2'}\n",
      "{   'creation_timestamp': 1616850322949,\n",
      "    'current_stage': 'Production',\n",
      "    'description': '',\n",
      "    'last_updated_timestamp': 1616853128658,\n",
      "    'name': 'ElasticNetWineModel',\n",
      "    'run_id': '9b0dcbe4b9394d8a8b80e6a8d65c68fe',\n",
      "    'run_link': '',\n",
      "    'source': './artifacts/1/9b0dcbe4b9394d8a8b80e6a8d65c68fe/artifacts/model',\n",
      "    'status': 'READY',\n",
      "    'status_message': '',\n",
      "    'tags': {},\n",
      "    'user_id': '',\n",
      "    'version': '3'}\n"
     ]
    }
   ],
   "source": [
    "from src.get_data import read_params\n",
    "import argparse\n",
    "import mlflow\n",
    "from mlflow.tracking import MlflowClient\n",
    "from pprint import pprint\n",
    "import joblib\n",
    "import os\n",
    "\n",
    "os.chdir(r'D:\\\\Study\\\\ML_AI\\\\Ineuron\\\\Commuity Project\\\\MLOps\\\\Project\\\\wineq')\n",
    "\n",
    "\n",
    "def log_production_model(config_path):\n",
    "    config = read_params(config_path)\n",
    "\n",
    "    mlflow_config = config[\"mlflow_config\"]\n",
    "    model_name = mlflow_config[\"registered_model_name\"]\n",
    "\n",
    "    remote_server_uri = mlflow_config[\"remote_server_uri\"]\n",
    "    mlflow.set_tracking_uri(remote_server_uri)\n",
    "\n",
    "    runs = mlflow.search_runs(experiment_ids=1)\n",
    "    lowest = runs[\"metrics.mae\"].sort_values(ascending=True)[0]\n",
    "    lowest_run_id = runs[runs[\"metrics.mae\"] == lowest][\"run_id\"][0]\n",
    "\n",
    "    client = MlflowClient()\n",
    "    for mv in client.search_model_versions(f\"name='{model_name}'\"):\n",
    "        mv = dict(mv)\n",
    "        pprint(mv, indent=4)\n",
    "        \n",
    "#         if mv[\"run_id\"] == lowest_run_id:\n",
    "#             current_version = mv[\"version\"]\n",
    "#             logged_model = mv[\"source\"]\n",
    "#             pprint(mv, indent=4)\n",
    "#             client.transition_model_version_stage(\n",
    "#                 name=model_name,\n",
    "#                 version=current_version,\n",
    "#                 stage=\"Production\"\n",
    "#             )\n",
    "#         else:\n",
    "#             current_version = mv[\"version\"]\n",
    "#             client.transition_model_version_stage(\n",
    "#                 name=model_name,\n",
    "#                 version=current_version,\n",
    "#                 stage=\"Staging\"\n",
    "#             )\n",
    "\n",
    "#     loaded_model = mlflow.pyfunc.load_model(logged_model)\n",
    "#     model_path = config[\"webapp_model_dir\"]\n",
    "\n",
    "#     joblib.dump(loaded_model, model_path)\n",
    "\n",
    "log_production_model(\"params.yaml\")\n",
    "    \n",
    "    \n",
    "# if __name__ == \"__main__\":\n",
    "#     args = argparse.ArgumentParser()\n",
    "#     args.add_argument(\"--config\", default=\"params.yaml\")\n",
    "#     parsed_args = args.parse_args()\n",
    "#     log_production_model(config_path=parsed_args.config)\n",
    "            \n"
   ]
  },
  {
   "cell_type": "code",
   "execution_count": null,
   "id": "instant-climb",
   "metadata": {},
   "outputs": [],
   "source": []
  }
 ],
 "metadata": {
  "kernelspec": {
   "display_name": "Python 3",
   "language": "python",
   "name": "python3"
  },
  "language_info": {
   "codemirror_mode": {
    "name": "ipython",
    "version": 3
   },
   "file_extension": ".py",
   "mimetype": "text/x-python",
   "name": "python",
   "nbconvert_exporter": "python",
   "pygments_lexer": "ipython3",
   "version": "3.7.0"
  }
 },
 "nbformat": 4,
 "nbformat_minor": 5
}
